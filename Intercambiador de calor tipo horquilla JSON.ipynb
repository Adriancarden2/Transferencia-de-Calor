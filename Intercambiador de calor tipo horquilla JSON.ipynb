{
 "cells": [
  {
   "cell_type": "markdown",
   "metadata": {},
   "source": [
    "Libraries"
   ]
  },
  {
   "cell_type": "code",
   "execution_count": 3,
   "metadata": {},
   "outputs": [],
   "source": [
    "import numpy as npy\n",
    "import math as mt"
   ]
  },
  {
   "cell_type": "markdown",
   "metadata": {},
   "source": [
    "Datos del fluido caliente (Gasoline) EXTERNO"
   ]
  },
  {
   "cell_type": "code",
   "execution_count": 1,
   "metadata": {},
   "outputs": [],
   "source": [
    "Ti = 160 #°F\n",
    "To = 120 #°F\n",
    "Cph = 0.55 #Btu/lbm °F\n",
    "kh = 0.087 #Btu/h ft °F\n",
    "muh = 0.45 #cP\n",
    "sh = 0.74\n",
    "Prh = 6.88\n",
    "Rdh = 0.001 #h ft2 °F/Btu"
   ]
  },
  {
   "cell_type": "markdown",
   "metadata": {},
   "source": [
    "Datos del fluido frío (Kerosene) INTERNO"
   ]
  },
  {
   "cell_type": "code",
   "execution_count": 2,
   "metadata": {},
   "outputs": [],
   "source": [
    "mc = 15000 #lb/h\n",
    "ti = 75 #°F\n",
    "to = 120 #°F\n",
    "Cpc = 0.48 #Btu/lbm °F\n",
    "kc = 0.081 #Btu/h ft °F\n",
    "muc = 1.5 #cP\n",
    "sc = 0.82\n",
    "Prc = 21.5\n",
    "Rdc = 0.001 #h ft2 °F/Btu"
   ]
  },
  {
   "cell_type": "markdown",
   "metadata": {},
   "source": [
    "Determinación de temperaturas"
   ]
  },
  {
   "cell_type": "code",
   "execution_count": 4,
   "metadata": {},
   "outputs": [],
   "source": [
    "#Cálculo de flujo másico fluído caliente\n",
    "mh = mc*Cpc*(to-ti)/(Cph*(Ti-To))\n",
    "\n",
    "#Temperatura media logarítmica\n",
    "Tlm = ((Ti-to)-(To-ti))/(npy.log((Ti-to)/(To-ti)))"
   ]
  },
  {
   "cell_type": "markdown",
   "metadata": {},
   "source": [
    "Parámetros del tubo"
   ]
  },
  {
   "cell_type": "code",
   "execution_count": 5,
   "metadata": {},
   "outputs": [],
   "source": [
    "L = 16 #ft\n",
    "k = 26 #Btu/h ft °F\n",
    "#Tubo interno\n",
    "#2 in SH40\n",
    "di = 2.067/12 #ft\n",
    "do = 2.375/12 #ft\n",
    "#Tubo externo\n",
    "#3 in SH40\n",
    "Di = 3.068/12 #ft"
   ]
  }
 ],
 "metadata": {
  "kernelspec": {
   "display_name": "Python 3",
   "language": "python",
   "name": "python3"
  },
  "language_info": {
   "codemirror_mode": {
    "name": "ipython",
    "version": 3
   },
   "file_extension": ".py",
   "mimetype": "text/x-python",
   "name": "python",
   "nbconvert_exporter": "python",
   "pygments_lexer": "ipython3",
   "version": "3.11.9"
  }
 },
 "nbformat": 4,
 "nbformat_minor": 2
}
